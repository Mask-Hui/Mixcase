{
 "cells": [
  {
   "cell_type": "code",
   "execution_count": 1,
   "metadata": {},
   "outputs": [
    {
     "ename": "FileNotFoundError",
     "evalue": "[Errno 2] No such file or directory: '/media/ssd/cdp/Mixcase/Mixcase/logs_after_1213/Ex3'",
     "output_type": "error",
     "traceback": [
      "\u001b[0;31m---------------------------------------------------------------------------\u001b[0m",
      "\u001b[0;31mFileNotFoundError\u001b[0m                         Traceback (most recent call last)",
      "\u001b[1;32m/media/ssd/cdp/Mixcase/Mixcase/logs_after_1213/Ex3_new/process_transfer.ipynb 单元格 1\u001b[0m line \u001b[0;36m4\n\u001b[1;32m     <a href='vscode-notebook-cell://ssh-remote%2B5050-14.19.129.41/media/ssd/cdp/Mixcase/Mixcase/logs_after_1213/Ex3_new/process_transfer.ipynb#W0sdnNjb2RlLXJlbW90ZQ%3D%3D?line=37'>38</a>\u001b[0m \u001b[39m# 替换为你的文件夹路径\u001b[39;00m\n\u001b[1;32m     <a href='vscode-notebook-cell://ssh-remote%2B5050-14.19.129.41/media/ssd/cdp/Mixcase/Mixcase/logs_after_1213/Ex3_new/process_transfer.ipynb#W0sdnNjb2RlLXJlbW90ZQ%3D%3D?line=38'>39</a>\u001b[0m folder_path \u001b[39m=\u001b[39m \u001b[39m'\u001b[39m\u001b[39m/media/ssd/cdp/Mixcase/Mixcase/logs_after_1213/Ex3\u001b[39m\u001b[39m'\u001b[39m\n\u001b[0;32m---> <a href='vscode-notebook-cell://ssh-remote%2B5050-14.19.129.41/media/ssd/cdp/Mixcase/Mixcase/logs_after_1213/Ex3_new/process_transfer.ipynb#W0sdnNjb2RlLXJlbW90ZQ%3D%3D?line=39'>40</a>\u001b[0m process_jsonl_files(folder_path)\n",
      "\u001b[1;32m/media/ssd/cdp/Mixcase/Mixcase/logs_after_1213/Ex3_new/process_transfer.ipynb 单元格 1\u001b[0m line \u001b[0;36m1\n\u001b[1;32m     <a href='vscode-notebook-cell://ssh-remote%2B5050-14.19.129.41/media/ssd/cdp/Mixcase/Mixcase/logs_after_1213/Ex3_new/process_transfer.ipynb#W0sdnNjb2RlLXJlbW90ZQ%3D%3D?line=10'>11</a>\u001b[0m \u001b[39mdef\u001b[39;00m \u001b[39mprocess_jsonl_files\u001b[39m(folder_path):\n\u001b[1;32m     <a href='vscode-notebook-cell://ssh-remote%2B5050-14.19.129.41/media/ssd/cdp/Mixcase/Mixcase/logs_after_1213/Ex3_new/process_transfer.ipynb#W0sdnNjb2RlLXJlbW90ZQ%3D%3D?line=11'>12</a>\u001b[0m     \u001b[39m# 遍历文件夹中的所有文件\u001b[39;00m\n\u001b[0;32m---> <a href='vscode-notebook-cell://ssh-remote%2B5050-14.19.129.41/media/ssd/cdp/Mixcase/Mixcase/logs_after_1213/Ex3_new/process_transfer.ipynb#W0sdnNjb2RlLXJlbW90ZQ%3D%3D?line=12'>13</a>\u001b[0m     \u001b[39mfor\u001b[39;00m file \u001b[39min\u001b[39;00m os\u001b[39m.\u001b[39;49mlistdir(folder_path):\n\u001b[1;32m     <a href='vscode-notebook-cell://ssh-remote%2B5050-14.19.129.41/media/ssd/cdp/Mixcase/Mixcase/logs_after_1213/Ex3_new/process_transfer.ipynb#W0sdnNjb2RlLXJlbW90ZQ%3D%3D?line=13'>14</a>\u001b[0m         \u001b[39m# 检查文件是否是 JSONL 文件\u001b[39;00m\n\u001b[1;32m     <a href='vscode-notebook-cell://ssh-remote%2B5050-14.19.129.41/media/ssd/cdp/Mixcase/Mixcase/logs_after_1213/Ex3_new/process_transfer.ipynb#W0sdnNjb2RlLXJlbW90ZQ%3D%3D?line=14'>15</a>\u001b[0m         \u001b[39mif\u001b[39;00m file\u001b[39m.\u001b[39mendswith(\u001b[39m'\u001b[39m\u001b[39m.jsonl\u001b[39m\u001b[39m'\u001b[39m) \u001b[39mand\u001b[39;00m file\u001b[39m.\u001b[39mstartswith(\u001b[39m'\u001b[39m\u001b[39m1213_transfer_\u001b[39m\u001b[39m'\u001b[39m):\n\u001b[1;32m     <a href='vscode-notebook-cell://ssh-remote%2B5050-14.19.129.41/media/ssd/cdp/Mixcase/Mixcase/logs_after_1213/Ex3_new/process_transfer.ipynb#W0sdnNjb2RlLXJlbW90ZQ%3D%3D?line=15'>16</a>\u001b[0m             file_path \u001b[39m=\u001b[39m os\u001b[39m.\u001b[39mpath\u001b[39m.\u001b[39mjoin(folder_path, file)\n",
      "\u001b[0;31mFileNotFoundError\u001b[0m: [Errno 2] No such file or directory: '/media/ssd/cdp/Mixcase/Mixcase/logs_after_1213/Ex3'"
     ]
    }
   ],
   "source": [
    "import json\n",
    "import os\n",
    "import re\n",
    "\n",
    "def extract_filenames_from_path(path):\n",
    "    \"\"\"从文件路径中提取 filename1 和 filename2.\"\"\"\n",
    "    print(path)\n",
    "    match = re.search(r'1213_transfer_(.+?).json_(.+?).json_(.+?).jsonl', path)\n",
    "    return match.groups() if match else (None, None, None)\n",
    "\n",
    "def process_jsonl_files(folder_path):\n",
    "    # 遍历文件夹中的所有文件\n",
    "    for file in os.listdir(folder_path):\n",
    "        # 检查文件是否是 JSONL 文件\n",
    "        if file.endswith('.jsonl') and file.startswith('1213_transfer_'):\n",
    "            file_path = os.path.join(folder_path, file)\n",
    "            filename1, filename2, _ = extract_filenames_from_path(file)\n",
    "            print(filename1,filename2)\n",
    "            if filename1 and filename2:\n",
    "                process_file(file_path, filename1, filename2)\n",
    "\n",
    "def process_file(file_path, filename1, filename2):\n",
    "    performance_data = {'filename1': filename1, 'filename2': filename2}\n",
    "    with open(file_path, 'r') as file:\n",
    "        for line in file:\n",
    "            data = json.loads(line)\n",
    "            dict_name = data.get('name')\n",
    "            # if dict_name in ['GPT-sentinel',\"roberta-base-openai-detector\",\"Hello-SimpleAI/chatgpt-detector-roberta\",\"Radar\"]:\n",
    "            #     continue\n",
    "            print(dict)\n",
    "            performance_data[dict_name] = {'acc': data.get('acc_test') if 'acc_test' in list(data.keys()) else data['general']['acc_test'], 'auc': data.get('auc_test') if 'auc_test' in list(data.keys()) else data['general']['auc_test']}\n",
    "    # 写入到 performance.jsonl\n",
    "    with open('performance_1214.jsonl', 'a') as outfile:\n",
    "        json.dump(performance_data, outfile)\n",
    "        outfile.write('\\n')\n",
    "    print(performance_data)\n",
    "\n",
    "# 替换为你的文件夹路径\n",
    "folder_path = '/media/ssd/cdp/Mixcase/Mixcase/logs_after_1213/Ex3_new'\n",
    "process_jsonl_files(folder_path)\n"
   ]
  }
 ],
 "metadata": {
  "kernelspec": {
   "display_name": "MGTBench",
   "language": "python",
   "name": "python3"
  },
  "language_info": {
   "codemirror_mode": {
    "name": "ipython",
    "version": 3
   },
   "file_extension": ".py",
   "mimetype": "text/x-python",
   "name": "python",
   "nbconvert_exporter": "python",
   "pygments_lexer": "ipython3",
   "version": "3.8.16"
  }
 },
 "nbformat": 4,
 "nbformat_minor": 2
}
